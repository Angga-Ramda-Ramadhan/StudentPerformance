{
 "cells": [
  {
   "cell_type": "code",
   "execution_count": 1,
   "metadata": {},
   "outputs": [],
   "source": [
    "#https://www.kaggle.com/datasets/stealthtechnologies/predict-student-performance-dataset"
   ]
  },
  {
   "cell_type": "code",
   "execution_count": 2,
   "metadata": {},
   "outputs": [],
   "source": [
    "#Import necessary library\n",
    "import pandas as pd\n",
    "import matplotlib.pyplot as plt\n",
    "import seaborn as sns\n",
    "import mlflow\n",
    "from utils import checkoutlier, check_mv, check_dp, checkcor, splitting, model_RF, model_RF_HP\n",
    "from Config import config\n",
    "from mlflow.models import infer_signature"
   ]
  },
  {
   "cell_type": "code",
   "execution_count": null,
   "metadata": {},
   "outputs": [],
   "source": []
  },
  {
   "cell_type": "code",
   "execution_count": 3,
   "metadata": {},
   "outputs": [
    {
     "data": {
      "text/html": [
       "<div>\n",
       "<style scoped>\n",
       "    .dataframe tbody tr th:only-of-type {\n",
       "        vertical-align: middle;\n",
       "    }\n",
       "\n",
       "    .dataframe tbody tr th {\n",
       "        vertical-align: top;\n",
       "    }\n",
       "\n",
       "    .dataframe thead th {\n",
       "        text-align: right;\n",
       "    }\n",
       "</style>\n",
       "<table border=\"1\" class=\"dataframe\">\n",
       "  <thead>\n",
       "    <tr style=\"text-align: right;\">\n",
       "      <th></th>\n",
       "      <th>Socioeconomic Score</th>\n",
       "      <th>Study Hours</th>\n",
       "      <th>Sleep Hours</th>\n",
       "      <th>Attendance (%)</th>\n",
       "      <th>Grades</th>\n",
       "    </tr>\n",
       "  </thead>\n",
       "  <tbody>\n",
       "    <tr>\n",
       "      <th>0</th>\n",
       "      <td>0.95822</td>\n",
       "      <td>3.4</td>\n",
       "      <td>8.2</td>\n",
       "      <td>53.0</td>\n",
       "      <td>47.0</td>\n",
       "    </tr>\n",
       "    <tr>\n",
       "      <th>1</th>\n",
       "      <td>0.85566</td>\n",
       "      <td>3.2</td>\n",
       "      <td>5.9</td>\n",
       "      <td>55.0</td>\n",
       "      <td>35.0</td>\n",
       "    </tr>\n",
       "    <tr>\n",
       "      <th>2</th>\n",
       "      <td>0.68025</td>\n",
       "      <td>3.2</td>\n",
       "      <td>9.3</td>\n",
       "      <td>41.0</td>\n",
       "      <td>32.0</td>\n",
       "    </tr>\n",
       "    <tr>\n",
       "      <th>3</th>\n",
       "      <td>0.25936</td>\n",
       "      <td>3.2</td>\n",
       "      <td>8.2</td>\n",
       "      <td>47.0</td>\n",
       "      <td>34.0</td>\n",
       "    </tr>\n",
       "    <tr>\n",
       "      <th>4</th>\n",
       "      <td>0.60447</td>\n",
       "      <td>3.8</td>\n",
       "      <td>10.0</td>\n",
       "      <td>75.0</td>\n",
       "      <td>33.0</td>\n",
       "    </tr>\n",
       "  </tbody>\n",
       "</table>\n",
       "</div>"
      ],
      "text/plain": [
       "   Socioeconomic Score  Study Hours  Sleep Hours  Attendance (%)  Grades\n",
       "0              0.95822          3.4          8.2            53.0    47.0\n",
       "1              0.85566          3.2          5.9            55.0    35.0\n",
       "2              0.68025          3.2          9.3            41.0    32.0\n",
       "3              0.25936          3.2          8.2            47.0    34.0\n",
       "4              0.60447          3.8         10.0            75.0    33.0"
      ]
     },
     "execution_count": 3,
     "metadata": {},
     "output_type": "execute_result"
    }
   ],
   "source": [
    "data = pd.read_csv(r'C:\\Users\\ASUS\\ProjectPreNewYears\\Assets\\Dataset\\data.csv') #Import data using pandas\n",
    "data.head() #Showing Top 5 Data"
   ]
  },
  {
   "cell_type": "code",
   "execution_count": 4,
   "metadata": {},
   "outputs": [
    {
     "name": "stdout",
     "output_type": "stream",
     "text": [
      "<class 'pandas.core.frame.DataFrame'>\n",
      "RangeIndex: 1388 entries, 0 to 1387\n",
      "Data columns (total 5 columns):\n",
      " #   Column               Non-Null Count  Dtype  \n",
      "---  ------               --------------  -----  \n",
      " 0   Socioeconomic Score  1388 non-null   float64\n",
      " 1   Study Hours          1388 non-null   float64\n",
      " 2   Sleep Hours          1388 non-null   float64\n",
      " 3   Attendance (%)       1388 non-null   float64\n",
      " 4   Grades               1388 non-null   float64\n",
      "dtypes: float64(5)\n",
      "memory usage: 54.3 KB\n"
     ]
    }
   ],
   "source": [
    "data.info()"
   ]
  },
  {
   "cell_type": "code",
   "execution_count": 5,
   "metadata": {},
   "outputs": [
    {
     "data": {
      "text/html": [
       "<div>\n",
       "<style scoped>\n",
       "    .dataframe tbody tr th:only-of-type {\n",
       "        vertical-align: middle;\n",
       "    }\n",
       "\n",
       "    .dataframe tbody tr th {\n",
       "        vertical-align: top;\n",
       "    }\n",
       "\n",
       "    .dataframe thead th {\n",
       "        text-align: right;\n",
       "    }\n",
       "</style>\n",
       "<table border=\"1\" class=\"dataframe\">\n",
       "  <thead>\n",
       "    <tr style=\"text-align: right;\">\n",
       "      <th></th>\n",
       "      <th>Socioeconomic Score</th>\n",
       "      <th>Study Hours</th>\n",
       "      <th>Sleep Hours</th>\n",
       "      <th>Attendance (%)</th>\n",
       "      <th>Grades</th>\n",
       "    </tr>\n",
       "  </thead>\n",
       "  <tbody>\n",
       "    <tr>\n",
       "      <th>count</th>\n",
       "      <td>1388.000000</td>\n",
       "      <td>1388.000000</td>\n",
       "      <td>1388.000000</td>\n",
       "      <td>1388.000000</td>\n",
       "      <td>1388.000000</td>\n",
       "    </tr>\n",
       "    <tr>\n",
       "      <th>mean</th>\n",
       "      <td>0.552274</td>\n",
       "      <td>4.560807</td>\n",
       "      <td>8.047262</td>\n",
       "      <td>58.536023</td>\n",
       "      <td>40.691643</td>\n",
       "    </tr>\n",
       "    <tr>\n",
       "      <th>std</th>\n",
       "      <td>0.261272</td>\n",
       "      <td>1.897581</td>\n",
       "      <td>1.370700</td>\n",
       "      <td>11.675287</td>\n",
       "      <td>9.467358</td>\n",
       "    </tr>\n",
       "    <tr>\n",
       "      <th>min</th>\n",
       "      <td>0.101280</td>\n",
       "      <td>0.800000</td>\n",
       "      <td>4.800000</td>\n",
       "      <td>40.000000</td>\n",
       "      <td>32.000000</td>\n",
       "    </tr>\n",
       "    <tr>\n",
       "      <th>25%</th>\n",
       "      <td>0.322118</td>\n",
       "      <td>3.475000</td>\n",
       "      <td>7.000000</td>\n",
       "      <td>49.000000</td>\n",
       "      <td>34.000000</td>\n",
       "    </tr>\n",
       "    <tr>\n",
       "      <th>50%</th>\n",
       "      <td>0.545945</td>\n",
       "      <td>3.900000</td>\n",
       "      <td>8.400000</td>\n",
       "      <td>57.000000</td>\n",
       "      <td>35.000000</td>\n",
       "    </tr>\n",
       "    <tr>\n",
       "      <th>75%</th>\n",
       "      <td>0.789610</td>\n",
       "      <td>5.900000</td>\n",
       "      <td>9.100000</td>\n",
       "      <td>66.000000</td>\n",
       "      <td>47.000000</td>\n",
       "    </tr>\n",
       "    <tr>\n",
       "      <th>max</th>\n",
       "      <td>0.999820</td>\n",
       "      <td>10.000000</td>\n",
       "      <td>10.000000</td>\n",
       "      <td>100.000000</td>\n",
       "      <td>91.000000</td>\n",
       "    </tr>\n",
       "  </tbody>\n",
       "</table>\n",
       "</div>"
      ],
      "text/plain": [
       "       Socioeconomic Score  Study Hours  Sleep Hours  Attendance (%)  \\\n",
       "count          1388.000000  1388.000000  1388.000000     1388.000000   \n",
       "mean              0.552274     4.560807     8.047262       58.536023   \n",
       "std               0.261272     1.897581     1.370700       11.675287   \n",
       "min               0.101280     0.800000     4.800000       40.000000   \n",
       "25%               0.322118     3.475000     7.000000       49.000000   \n",
       "50%               0.545945     3.900000     8.400000       57.000000   \n",
       "75%               0.789610     5.900000     9.100000       66.000000   \n",
       "max               0.999820    10.000000    10.000000      100.000000   \n",
       "\n",
       "            Grades  \n",
       "count  1388.000000  \n",
       "mean     40.691643  \n",
       "std       9.467358  \n",
       "min      32.000000  \n",
       "25%      34.000000  \n",
       "50%      35.000000  \n",
       "75%      47.000000  \n",
       "max      91.000000  "
      ]
     },
     "execution_count": 5,
     "metadata": {},
     "output_type": "execute_result"
    }
   ],
   "source": [
    "data.describe()"
   ]
  },
  {
   "cell_type": "markdown",
   "metadata": {},
   "source": [
    "# Data Cleaning"
   ]
  },
  {
   "cell_type": "code",
   "execution_count": 6,
   "metadata": {},
   "outputs": [
    {
     "name": "stdout",
     "output_type": "stream",
     "text": [
      "Jumlah Duplikat Data:  0\n"
     ]
    }
   ],
   "source": [
    "check_dp(data) #Checking Duplikat Data"
   ]
  },
  {
   "cell_type": "code",
   "execution_count": 7,
   "metadata": {},
   "outputs": [
    {
     "name": "stdout",
     "output_type": "stream",
     "text": [
      "Jumlah Missing Value:  Socioeconomic Score    0\n",
      "Study Hours            0\n",
      "Sleep Hours            0\n",
      "Attendance (%)         0\n",
      "Grades                 0\n",
      "dtype: int64\n"
     ]
    }
   ],
   "source": [
    "check_mv(data) #Checking MV"
   ]
  },
  {
   "cell_type": "code",
   "execution_count": 8,
   "metadata": {},
   "outputs": [
    {
     "data": {
      "text/plain": [
       "<Axes: ylabel='Socioeconomic Score'>"
      ]
     },
     "execution_count": 8,
     "metadata": {},
     "output_type": "execute_result"
    },
    {
     "data": {
      "image/png": "[encoded data removed]",
      "text/plain": [
       "<Figure size 640x480 with 1 Axes>"
      ]
     },
     "metadata": {},
     "output_type": "display_data"
    }
   ],
   "source": [
    "sns.boxplot(data, y='Socioeconomic Score')"
   ]
  },
  {
   "cell_type": "code",
   "execution_count": 9,
   "metadata": {},
   "outputs": [
    {
     "data": {
      "text/plain": [
       "<Axes: ylabel='Study Hours'>"
      ]
     },
     "execution_count": 9,
     "metadata": {},
     "output_type": "execute_result"
    },
    {
     "data": {
      "image/png": "[encoded data removed]",
      "text/plain": [
       "<Figure size 640x480 with 1 Axes>"
      ]
     },
     "metadata": {},
     "output_type": "display_data"
    }
   ],
   "source": [
    "sns.boxplot(data, y='Study Hours')"
   ]
  },
  {
   "cell_type": "code",
   "execution_count": 10,
   "metadata": {},
   "outputs": [
    {
     "data": {
      "text/plain": [
       "<Axes: ylabel='Sleep Hours'>"
      ]
     },
     "execution_count": 10,
     "metadata": {},
     "output_type": "execute_result"
    },
    {
     "data": {
      "image/png": "[encoded data removed]",
      "text/plain": [
       "<Figure size 640x480 with 1 Axes>"
      ]
     },
     "metadata": {},
     "output_type": "display_data"
    }
   ],
   "source": [
    "sns.boxplot(data, y='Sleep Hours')"
   ]
  },
  {
   "cell_type": "code",
   "execution_count": 11,
   "metadata": {},
   "outputs": [
    {
     "data": {
      "text/plain": [
       "<Axes: ylabel='Attendance (%)'>"
      ]
     },
     "execution_count": 11,
     "metadata": {},
     "output_type": "execute_result"
    },
    {
     "data": {
      "image/png": "[encoded data removed]",
      "text/plain": [
       "<Figure size 640x480 with 1 Axes>"
      ]
     },
     "metadata": {},
     "output_type": "display_data"
    }
   ],
   "source": [
    "sns.boxplot(data, y='Attendance (%)')"
   ]
  },
  {
   "cell_type": "code",
   "execution_count": 12,
   "metadata": {},
   "outputs": [
    {
     "data": {
      "text/plain": [
       "<Axes: ylabel='Grades'>"
      ]
     },
     "execution_count": 12,
     "metadata": {},
     "output_type": "execute_result"
    },
    {
     "data": {
      "image/png": "[encoded data removed]",
      "text/plain": [
       "<Figure size 640x480 with 1 Axes>"
      ]
     },
     "metadata": {},
     "output_type": "display_data"
    }
   ],
   "source": [
    "sns.boxplot(data, y='Grades')"
   ]
  },
  {
   "cell_type": "markdown",
   "metadata": {},
   "source": [
    "```\n",
    "Terdapat Outlier pada variable Study Hours, Attendace, dan Grades\n",
    "\n",
    "```"
   ]
  },
  {
   "cell_type": "code",
   "execution_count": 13,
   "metadata": {},
   "outputs": [
    {
     "name": "stdout",
     "output_type": "stream",
     "text": [
      "Jumlah Outlier dalam kolom {kolom}=        Socioeconomic Score  Study Hours  Sleep Hours  Attendance (%)  Grades\n",
      "11                0.34816          9.1          7.7            80.0    60.0\n",
      "22                0.66286          9.8          6.2            78.0    64.0\n",
      "37                0.99789          9.5          7.1            41.0    88.0\n",
      "43                0.74132          8.4          7.5            80.0    58.0\n",
      "49                0.56987          9.0          7.3            74.0    61.0\n",
      "...                   ...          ...          ...             ...     ...\n",
      "1307              0.56168          8.9          7.0            86.0    59.0\n",
      "1347              0.79212          0.9          8.3            50.0    33.0\n",
      "1354              0.14612          8.8          7.6            93.0    59.0\n",
      "1360              0.26702          0.8          8.3            49.0    33.0\n",
      "1362              0.33208          1.0          7.9            57.0    35.0\n",
      "\n",
      "[77 rows x 5 columns]\n"
     ]
    }
   ],
   "source": [
    "bersih = checkoutlier(data, 'Study Hours')"
   ]
  },
  {
   "cell_type": "code",
   "execution_count": 14,
   "metadata": {},
   "outputs": [
    {
     "data": {
      "text/plain": [
       "<Axes: ylabel='Study Hours'>"
      ]
     },
     "execution_count": 14,
     "metadata": {},
     "output_type": "execute_result"
    },
    {
     "data": {
      "image/png": "[encoded data removed]",
      "text/plain": [
       "<Figure size 640x480 with 1 Axes>"
      ]
     },
     "metadata": {},
     "output_type": "display_data"
    }
   ],
   "source": [
    "sns.boxplot(bersih, y='Study Hours')"
   ]
  },
  {
   "cell_type": "code",
   "execution_count": 15,
   "metadata": {},
   "outputs": [
    {
     "name": "stdout",
     "output_type": "stream",
     "text": [
      "Jumlah Outlier dalam kolom {kolom}=        Socioeconomic Score  Study Hours  Sleep Hours  Attendance (%)  Grades\n",
      "73                0.94990          8.1          8.5            84.0    70.0\n",
      "95                0.55376          7.4          8.2            82.0    50.0\n",
      "135               0.31144          6.0          8.7            82.0    42.0\n",
      "146               0.18535          7.7          8.8            83.0    52.0\n",
      "168               0.46406          5.5          8.2            83.0    41.0\n",
      "195               0.96483          3.9          7.1            84.0    47.0\n",
      "275               0.36190          4.2          8.2            83.0    34.0\n",
      "351               0.14741          8.2          6.1            90.0    54.0\n",
      "352               0.90023          8.0          5.5            84.0    59.0\n",
      "388               0.52521          8.3          6.2            83.0    56.0\n",
      "412               0.69492          8.2          8.5            83.0    58.0\n",
      "442               0.38371          3.6          7.9            83.0    35.0\n",
      "561               0.35115          8.1          8.2            92.0    53.0\n",
      "602               0.13263          6.1          6.4            83.0    43.0\n",
      "678               0.33893          8.2          5.2            90.0    56.0\n",
      "746               0.26822          3.7          6.8            84.0    34.0\n",
      "779               0.52544          5.1          9.4            88.0    36.0\n",
      "786               0.83476          8.3          7.2            98.0    59.0\n",
      "889               0.21387          8.3          7.0            87.0    56.0\n",
      "948               0.10770          3.8          9.5            87.0    33.0\n",
      "957               0.15677          8.1          8.5            84.0    55.0\n",
      "968               0.97232          7.7          7.7            83.0    70.0\n",
      "970               0.58451          7.1          8.0            87.0    50.0\n",
      "1029              0.12955          3.8          9.8            86.0    34.0\n",
      "1077              0.86712          8.1          8.2            93.0    61.0\n",
      "1267              0.75877          8.2          7.0            94.0    57.0\n",
      "1268              0.13855          3.9          8.6            84.0    33.0\n",
      "1332              0.79186          8.3          7.0            95.0    57.0\n",
      "1376              0.89307          3.0          8.5            85.0    35.0\n"
     ]
    }
   ],
   "source": [
    "bersih = checkoutlier(bersih, 'Attendance (%)')"
   ]
  },
  {
   "cell_type": "code",
   "execution_count": 16,
   "metadata": {},
   "outputs": [
    {
     "name": "stdout",
     "output_type": "stream",
     "text": [
      "<class 'pandas.core.frame.DataFrame'>\n",
      "Index: 1277 entries, 0 to 1387\n",
      "Data columns (total 5 columns):\n",
      " #   Column               Non-Null Count  Dtype  \n",
      "---  ------               --------------  -----  \n",
      " 0   Socioeconomic Score  1277 non-null   float64\n",
      " 1   Study Hours          1277 non-null   float64\n",
      " 2   Sleep Hours          1277 non-null   float64\n",
      " 3   Attendance (%)       1277 non-null   float64\n",
      " 4   Grades               1277 non-null   float64\n",
      "dtypes: float64(5)\n",
      "memory usage: 59.9 KB\n"
     ]
    }
   ],
   "source": [
    "bersih.info()"
   ]
  },
  {
   "cell_type": "code",
   "execution_count": 17,
   "metadata": {},
   "outputs": [
    {
     "data": {
      "text/plain": [
       "<Axes: ylabel='Attendance (%)'>"
      ]
     },
     "execution_count": 17,
     "metadata": {},
     "output_type": "execute_result"
    },
    {
     "data": {
      "image/png": "[encoded data removed]",
      "text/plain": [
       "<Figure size 640x480 with 1 Axes>"
      ]
     },
     "metadata": {},
     "output_type": "display_data"
    }
   ],
   "source": [
    "sns.boxplot(bersih, y='Attendance (%)')"
   ]
  },
  {
   "cell_type": "code",
   "execution_count": 18,
   "metadata": {},
   "outputs": [
    {
     "name": "stdout",
     "output_type": "stream",
     "text": [
      "Jumlah Outlier dalam kolom {kolom}=        Socioeconomic Score  Study Hours  Sleep Hours  Attendance (%)  Grades\n",
      "63                0.99555          5.7          7.9            78.0    66.0\n",
      "65                0.89689          6.2          8.2            46.0    57.0\n",
      "105               0.86498          8.3          8.2            59.0    64.0\n",
      "110               0.84244          6.6          8.5            51.0    57.0\n",
      "132               0.93925          6.0          9.8            51.0    60.0\n",
      "134               0.97759          5.0          8.3            75.0    57.0\n",
      "155               0.87604          6.2          9.9            47.0    57.0\n",
      "182               0.93454          6.6          9.1            57.0    62.0\n",
      "183               0.93871          6.3         10.0            61.0    62.0\n",
      "191               0.89883          7.7          8.3            64.0    63.0\n",
      "224               0.86746          6.5          8.8            40.0    59.0\n",
      "233               0.75988          7.6          8.6            46.0    59.0\n",
      "245               0.98926          5.8         10.0            68.0    64.0\n",
      "274               0.94157          7.1          9.2            68.0    66.0\n",
      "328               0.93699          6.1          8.5            57.0    59.0\n",
      "331               0.95116          5.8          9.0            53.0    61.0\n",
      "367               0.94017          6.9          9.1            49.0    65.0\n",
      "375               0.79004          7.8          9.0            47.0    61.0\n",
      "456               0.95218          7.9          8.4            58.0    72.0\n",
      "572               0.88830          7.9          5.7            79.0    58.0\n",
      "633               0.96688          7.5          5.9            69.0    67.0\n",
      "640               0.79231          8.3          5.9            79.0    58.0\n",
      "648               0.90610          7.0          8.2            59.0    60.0\n",
      "680               0.83749          7.2          9.7            63.0    57.0\n",
      "732               0.97201          5.4          7.7            41.0    60.0\n",
      "759               0.37796          8.3          8.3            65.0    57.0\n",
      "823               0.98776          7.1          7.5            60.0    73.0\n",
      "843               0.99599          7.6          8.9            68.0    77.0\n",
      "848               0.92439          7.2          7.4            76.0    61.0\n",
      "862               0.90389          6.5          9.4            67.0    58.0\n",
      "887               0.79838          7.4          9.3            53.0    57.0\n",
      "901               0.96542          5.7          8.9            67.0    62.0\n",
      "925               0.99033          8.1          8.2            74.0    80.0\n",
      "942               0.84657          6.7          9.4            47.0    57.0\n",
      "979               0.90757          6.9          7.1            53.0    61.0\n",
      "991               0.90465          7.8          8.9            63.0    67.0\n",
      "1004              0.91536          6.3          6.7            45.0    59.0\n",
      "1007              0.99402          6.2          8.4            66.0    67.0\n",
      "1050              0.98420          4.6          9.1            44.0    58.0\n",
      "1090              0.99528          6.0          9.4            70.0    67.0\n",
      "1095              0.99183          5.3          7.7            57.0    63.0\n",
      "1140              0.88809          6.7          9.4            61.0    58.0\n",
      "1161              0.99505          6.4          7.3            67.0    70.0\n",
      "1170              0.93937          6.3          7.8            56.0    59.0\n",
      "1177              0.92397          7.9          8.0            61.0    69.0\n",
      "1203              0.88162          6.4          7.8            45.0    58.0\n",
      "1210              0.96060          6.1          5.4            45.0    62.0\n",
      "1232              0.97366          4.8          8.7            66.0    58.0\n",
      "1274              0.79679          8.2          5.9            75.0    58.0\n",
      "1309              0.92893          5.4          8.2            46.0    57.0\n",
      "1336              0.99982          7.1          9.0            48.0    74.0\n",
      "1368              0.86388          7.4          9.6            48.0    62.0\n",
      "1375              0.79582          7.9          8.4            51.0    60.0\n"
     ]
    }
   ],
   "source": [
    "data_bersih = checkoutlier(bersih, 'Grades')"
   ]
  },
  {
   "cell_type": "code",
   "execution_count": 19,
   "metadata": {},
   "outputs": [
    {
     "name": "stdout",
     "output_type": "stream",
     "text": [
      "<class 'pandas.core.frame.DataFrame'>\n",
      "Index: 1217 entries, 0 to 1387\n",
      "Data columns (total 5 columns):\n",
      " #   Column               Non-Null Count  Dtype  \n",
      "---  ------               --------------  -----  \n",
      " 0   Socioeconomic Score  1217 non-null   float64\n",
      " 1   Study Hours          1217 non-null   float64\n",
      " 2   Sleep Hours          1217 non-null   float64\n",
      " 3   Attendance (%)       1217 non-null   float64\n",
      " 4   Grades               1217 non-null   float64\n",
      "dtypes: float64(5)\n",
      "memory usage: 57.0 KB\n"
     ]
    }
   ],
   "source": [
    "data_bersih.info()"
   ]
  },
  {
   "cell_type": "code",
   "execution_count": 20,
   "metadata": {},
   "outputs": [
    {
     "data": {
      "text/plain": [
       "<Axes: ylabel='Grades'>"
      ]
     },
     "execution_count": 20,
     "metadata": {},
     "output_type": "execute_result"
    },
    {
     "data": {
      "image/png": "[encoded data removed]",
      "text/plain": [
       "<Figure size 640x480 with 1 Axes>"
      ]
     },
     "metadata": {},
     "output_type": "display_data"
    }
   ],
   "source": [
    "sns.boxplot(data_bersih, y='Grades')"
   ]
  },
  {
   "cell_type": "markdown",
   "metadata": {},
   "source": [
    "# EDA"
   ]
  },
  {
   "cell_type": "code",
   "execution_count": 21,
   "metadata": {},
   "outputs": [
    {
     "data": {
      "image/png": "[encoded data removed]",
      "text/plain": [
       "<Figure size 500x500 with 2 Axes>"
      ]
     },
     "metadata": {},
     "output_type": "display_data"
    }
   ],
   "source": [
    "checkcor(data_bersih) #Checking Correlations Between Variable"
   ]
  },
  {
   "cell_type": "markdown",
   "metadata": {},
   "source": [
    "**Insight**\n",
    "\n",
    "- Berdasarkan korelasi kita akan mengambil semua kolom sebagai parameter yang nantinya menjadi penentu hasil prediksi \"Grades\"\n",
    "- Berdasarkan hasil kolerasi kita ketahui bahwa \"Study Hours\" memiliki korelasi positif sebesar 0.74 terhadap Grades"
   ]
  },
  {
   "cell_type": "markdown",
   "metadata": {},
   "source": [
    "# Modelling"
   ]
  },
  {
   "cell_type": "code",
   "execution_count": 22,
   "metadata": {},
   "outputs": [],
   "source": [
    "X_train, X_test, Y_train, Y_test = splitting(data_bersih)"
   ]
  },
  {
   "cell_type": "code",
   "execution_count": 23,
   "metadata": {},
   "outputs": [
    {
     "name": "stdout",
     "output_type": "stream",
     "text": [
      "Hasil MSE = 1.6791200819672127, Hasil MAE = 0.9553688524590163\n"
     ]
    }
   ],
   "source": [
    "model_rf, data_uji_rf, mae, mse= model_RF(X_train, X_test, Y_train, Y_test)"
   ]
  },
  {
   "cell_type": "code",
   "execution_count": 24,
   "metadata": {},
   "outputs": [],
   "source": [
    "X_train_HP, X_test_HP, Y_train_HP, Y_test_HP = splitting(data_bersih)"
   ]
  },
  {
   "cell_type": "code",
   "execution_count": 25,
   "metadata": {},
   "outputs": [
    {
     "name": "stdout",
     "output_type": "stream",
     "text": [
      "Hasil MSE = 1.5332375792194612, Hasil MAE = 0.9275444867230714\n"
     ]
    }
   ],
   "source": [
    "model_rf_hp, data_uji_rf_hp, mae_hp, mse_hp, params = model_RF_HP(X_train_HP, X_test_HP, Y_train_HP, Y_test_HP)"
   ]
  },
  {
   "cell_type": "markdown",
   "metadata": {},
   "source": [
    "# MLFlow"
   ]
  },
  {
   "cell_type": "code",
   "execution_count": 26,
   "metadata": {},
   "outputs": [],
   "source": [
    "mlflow.set_tracking_uri(uri=config.mlflow_uri)"
   ]
  },
  {
   "cell_type": "code",
   "execution_count": 27,
   "metadata": {},
   "outputs": [
    {
     "name": "stderr",
     "output_type": "stream",
     "text": [
      "Registered model 'rf_notune' already exists. Creating a new version of this model...\n",
      "2025/01/01 14:45:36 INFO mlflow.store.model_registry.abstract_store: Waiting up to 300 seconds for model version to finish creation. Model name: rf_notune, version 3\n"
     ]
    },
    {
     "name": "stdout",
     "output_type": "stream",
     "text": [
      "🏃 View run Without HP Tuning at: http://127.0.0.1:8080/#/experiments/436989784192711603/runs/cb72e08e3a054fa5bbdb4cc018ff6343\n",
      "🧪 View experiment at: http://127.0.0.1:8080/#/experiments/436989784192711603\n"
     ]
    },
    {
     "name": "stderr",
     "output_type": "stream",
     "text": [
      "Created version '3' of model 'rf_notune'.\n"
     ]
    }
   ],
   "source": [
    "mlflow.set_experiment(\"Experiment\")\n",
    "\n",
    "with mlflow.start_run(run_name=\"Without HP Tuning\"):\n",
    "    mlflow.log_param(\"n_estimators\", model_rf.n_estimators)\n",
    "    mlflow.log_param(\"max_depth\", model_rf.max_depth)\n",
    "    mlflow.log_metric(\"MAE\", mae)\n",
    "    mlflow.log_metric(\"MSE\", mse)\n",
    "    mlflow.set_tag(\"Training Info\", \"Model RF Without HP Tuning\")\n",
    "    signature = infer_signature(X_test, model_rf.predict(X_test))\n",
    "\n",
    "    #log model\n",
    "    modelrf=mlflow.sklearn.log_model(\n",
    "        sk_model=model_rf,\n",
    "        artifact_path=\"no tuning\",\n",
    "        signature = signature,\n",
    "        input_example=X_test,\n",
    "        registered_model_name=\"rf_notune\"\n",
    "    )"
   ]
  },
  {
   "cell_type": "code",
   "execution_count": 28,
   "metadata": {},
   "outputs": [
    {
     "name": "stderr",
     "output_type": "stream",
     "text": [
      "Registered model 'rf_withtune' already exists. Creating a new version of this model...\n",
      "2025/01/01 14:45:44 INFO mlflow.store.model_registry.abstract_store: Waiting up to 300 seconds for model version to finish creation. Model name: rf_withtune, version 3\n"
     ]
    },
    {
     "name": "stdout",
     "output_type": "stream",
     "text": [
      "🏃 View run With HP Tuning at: http://127.0.0.1:8080/#/experiments/436989784192711603/runs/cfb987e098e54119bdab9bb99bcab877\n",
      "🧪 View experiment at: http://127.0.0.1:8080/#/experiments/436989784192711603\n"
     ]
    },
    {
     "name": "stderr",
     "output_type": "stream",
     "text": [
      "Created version '3' of model 'rf_withtune'.\n"
     ]
    }
   ],
   "source": [
    "with mlflow.start_run(run_name=\"With HP Tuning\"):\n",
    "    mlflow.log_param(\"n_estimators\", model_rf_hp.n_estimators)\n",
    "    mlflow.log_param(\"max_depth\", model_rf_hp.max_depth)\n",
    "    mlflow.log_metric(\"MAE\", mae_hp)\n",
    "    mlflow.log_metric(\"MSE\", mse_hp)\n",
    "    mlflow.set_tag(\"Training Info\", \"Model RF With HP Tuning\")\n",
    "    signature = infer_signature(X_test_HP, model_rf_hp.predict(X_test_HP))\n",
    "\n",
    "    #log model\n",
    "    modelrfhp=mlflow.sklearn.log_model(\n",
    "        sk_model=model_rf_hp,\n",
    "        artifact_path=\"With tuning\",\n",
    "        signature = signature,\n",
    "        input_example=X_test_HP,\n",
    "        registered_model_name=\"rf_withtune\"\n",
    "    )"
   ]
  },
  {
   "cell_type": "markdown",
   "metadata": {},
   "source": [
    "# Testing"
   ]
  },
  {
   "cell_type": "code",
   "execution_count": 29,
   "metadata": {},
   "outputs": [
    {
     "data": {
      "text/html": [
       "<div>\n",
       "<style scoped>\n",
       "    .dataframe tbody tr th:only-of-type {\n",
       "        vertical-align: middle;\n",
       "    }\n",
       "\n",
       "    .dataframe tbody tr th {\n",
       "        vertical-align: top;\n",
       "    }\n",
       "\n",
       "    .dataframe thead th {\n",
       "        text-align: right;\n",
       "    }\n",
       "</style>\n",
       "<table border=\"1\" class=\"dataframe\">\n",
       "  <thead>\n",
       "    <tr style=\"text-align: right;\">\n",
       "      <th></th>\n",
       "      <th>Socioeconomic Score</th>\n",
       "      <th>Study Hours</th>\n",
       "      <th>Sleep Hours</th>\n",
       "      <th>Attendance (%)</th>\n",
       "      <th>Grades</th>\n",
       "    </tr>\n",
       "  </thead>\n",
       "  <tbody>\n",
       "    <tr>\n",
       "      <th>0</th>\n",
       "      <td>0.95822</td>\n",
       "      <td>3.4</td>\n",
       "      <td>8.2</td>\n",
       "      <td>53.0</td>\n",
       "      <td>47.0</td>\n",
       "    </tr>\n",
       "    <tr>\n",
       "      <th>1</th>\n",
       "      <td>0.85566</td>\n",
       "      <td>3.2</td>\n",
       "      <td>5.9</td>\n",
       "      <td>55.0</td>\n",
       "      <td>35.0</td>\n",
       "    </tr>\n",
       "    <tr>\n",
       "      <th>2</th>\n",
       "      <td>0.68025</td>\n",
       "      <td>3.2</td>\n",
       "      <td>9.3</td>\n",
       "      <td>41.0</td>\n",
       "      <td>32.0</td>\n",
       "    </tr>\n",
       "    <tr>\n",
       "      <th>3</th>\n",
       "      <td>0.25936</td>\n",
       "      <td>3.2</td>\n",
       "      <td>8.2</td>\n",
       "      <td>47.0</td>\n",
       "      <td>34.0</td>\n",
       "    </tr>\n",
       "    <tr>\n",
       "      <th>4</th>\n",
       "      <td>0.60447</td>\n",
       "      <td>3.8</td>\n",
       "      <td>10.0</td>\n",
       "      <td>75.0</td>\n",
       "      <td>33.0</td>\n",
       "    </tr>\n",
       "  </tbody>\n",
       "</table>\n",
       "</div>"
      ],
      "text/plain": [
       "   Socioeconomic Score  Study Hours  Sleep Hours  Attendance (%)  Grades\n",
       "0              0.95822          3.4          8.2            53.0    47.0\n",
       "1              0.85566          3.2          5.9            55.0    35.0\n",
       "2              0.68025          3.2          9.3            41.0    32.0\n",
       "3              0.25936          3.2          8.2            47.0    34.0\n",
       "4              0.60447          3.8         10.0            75.0    33.0"
      ]
     },
     "execution_count": 29,
     "metadata": {},
     "output_type": "execute_result"
    }
   ],
   "source": [
    "data_bersih.head()"
   ]
  },
  {
   "cell_type": "code",
   "execution_count": 30,
   "metadata": {},
   "outputs": [],
   "source": [
    "user_input = [[0.7, 6.1, 7.3, 80.0]]  # Format sesuai dengan model"
   ]
  },
  {
   "cell_type": "code",
   "execution_count": 31,
   "metadata": {},
   "outputs": [
    {
     "data": {
      "text/html": [
       "<div>\n",
       "<style scoped>\n",
       "    .dataframe tbody tr th:only-of-type {\n",
       "        vertical-align: middle;\n",
       "    }\n",
       "\n",
       "    .dataframe tbody tr th {\n",
       "        vertical-align: top;\n",
       "    }\n",
       "\n",
       "    .dataframe thead th {\n",
       "        text-align: right;\n",
       "    }\n",
       "</style>\n",
       "<table border=\"1\" class=\"dataframe\">\n",
       "  <thead>\n",
       "    <tr style=\"text-align: right;\">\n",
       "      <th></th>\n",
       "      <th>Socioeconomic Score</th>\n",
       "      <th>Study Hours</th>\n",
       "      <th>Sleep Hours</th>\n",
       "      <th>Attendance (%)</th>\n",
       "    </tr>\n",
       "  </thead>\n",
       "  <tbody>\n",
       "    <tr>\n",
       "      <th>0</th>\n",
       "      <td>0.7</td>\n",
       "      <td>6.1</td>\n",
       "      <td>7.3</td>\n",
       "      <td>80.0</td>\n",
       "    </tr>\n",
       "  </tbody>\n",
       "</table>\n",
       "</div>"
      ],
      "text/plain": [
       "   Socioeconomic Score  Study Hours  Sleep Hours  Attendance (%)\n",
       "0                  0.7          6.1          7.3            80.0"
      ]
     },
     "execution_count": 31,
     "metadata": {},
     "output_type": "execute_result"
    }
   ],
   "source": [
    "Input = pd.DataFrame(user_input, columns=['Socioeconomic Score', 'Study Hours',\t'Sleep Hours', 'Attendance (%)'])\n",
    "Input"
   ]
  },
  {
   "cell_type": "markdown",
   "metadata": {},
   "source": [
    "## Percobaan model RF No Tuning"
   ]
  },
  {
   "cell_type": "code",
   "execution_count": 32,
   "metadata": {},
   "outputs": [],
   "source": [
    "load_rf = mlflow.pyfunc.load_model(modelrf.model_uri)\n",
    "\n",
    "pred = load_rf.predict(Input)\n",
    "\n",
    "hasil = Input\n",
    "\n",
    "hasil['prediksi'] = pred"
   ]
  },
  {
   "cell_type": "code",
   "execution_count": 33,
   "metadata": {},
   "outputs": [
    {
     "data": {
      "text/html": [
       "<div>\n",
       "<style scoped>\n",
       "    .dataframe tbody tr th:only-of-type {\n",
       "        vertical-align: middle;\n",
       "    }\n",
       "\n",
       "    .dataframe tbody tr th {\n",
       "        vertical-align: top;\n",
       "    }\n",
       "\n",
       "    .dataframe thead th {\n",
       "        text-align: right;\n",
       "    }\n",
       "</style>\n",
       "<table border=\"1\" class=\"dataframe\">\n",
       "  <thead>\n",
       "    <tr style=\"text-align: right;\">\n",
       "      <th></th>\n",
       "      <th>Socioeconomic Score</th>\n",
       "      <th>Study Hours</th>\n",
       "      <th>Sleep Hours</th>\n",
       "      <th>Attendance (%)</th>\n",
       "      <th>prediksi</th>\n",
       "    </tr>\n",
       "  </thead>\n",
       "  <tbody>\n",
       "    <tr>\n",
       "      <th>0</th>\n",
       "      <td>0.7</td>\n",
       "      <td>6.1</td>\n",
       "      <td>7.3</td>\n",
       "      <td>80.0</td>\n",
       "      <td>44.69</td>\n",
       "    </tr>\n",
       "  </tbody>\n",
       "</table>\n",
       "</div>"
      ],
      "text/plain": [
       "   Socioeconomic Score  Study Hours  Sleep Hours  Attendance (%)  prediksi\n",
       "0                  0.7          6.1          7.3            80.0     44.69"
      ]
     },
     "execution_count": 33,
     "metadata": {},
     "output_type": "execute_result"
    }
   ],
   "source": [
    "hasil"
   ]
  },
  {
   "cell_type": "markdown",
   "metadata": {},
   "source": [
    "## Percobaan model HF With Tuning"
   ]
  },
  {
   "cell_type": "code",
   "execution_count": 34,
   "metadata": {},
   "outputs": [
    {
     "name": "stderr",
     "output_type": "stream",
     "text": [
      "2025/01/01 15:00:08 WARNING mlflow.models.utils: Found extra inputs in the model input that are not defined in the model signature: `['prediksi']`. These inputs will be ignored.\n"
     ]
    }
   ],
   "source": [
    "load_rf_hp = mlflow.pyfunc.load_model(modelrfhp.model_uri)\n",
    "\n",
    "pred = load_rf_hp.predict(Input)\n",
    "hasil_hp = Input\n",
    "hasil_hp['pred'] = pred"
   ]
  },
  {
   "cell_type": "code",
   "execution_count": 35,
   "metadata": {},
   "outputs": [
    {
     "data": {
      "text/html": [
       "<div>\n",
       "<style scoped>\n",
       "    .dataframe tbody tr th:only-of-type {\n",
       "        vertical-align: middle;\n",
       "    }\n",
       "\n",
       "    .dataframe tbody tr th {\n",
       "        vertical-align: top;\n",
       "    }\n",
       "\n",
       "    .dataframe thead th {\n",
       "        text-align: right;\n",
       "    }\n",
       "</style>\n",
       "<table border=\"1\" class=\"dataframe\">\n",
       "  <thead>\n",
       "    <tr style=\"text-align: right;\">\n",
       "      <th></th>\n",
       "      <th>Socioeconomic Score</th>\n",
       "      <th>Study Hours</th>\n",
       "      <th>Sleep Hours</th>\n",
       "      <th>Attendance (%)</th>\n",
       "      <th>prediksi</th>\n",
       "      <th>pred</th>\n",
       "    </tr>\n",
       "  </thead>\n",
       "  <tbody>\n",
       "    <tr>\n",
       "      <th>0</th>\n",
       "      <td>0.7</td>\n",
       "      <td>6.1</td>\n",
       "      <td>7.3</td>\n",
       "      <td>80.0</td>\n",
       "      <td>44.69</td>\n",
       "      <td>44.485</td>\n",
       "    </tr>\n",
       "  </tbody>\n",
       "</table>\n",
       "</div>"
      ],
      "text/plain": [
       "   Socioeconomic Score  Study Hours  Sleep Hours  Attendance (%)  prediksi  \\\n",
       "0                  0.7          6.1          7.3            80.0     44.69   \n",
       "\n",
       "     pred  \n",
       "0  44.485  "
      ]
     },
     "execution_count": 35,
     "metadata": {},
     "output_type": "execute_result"
    }
   ],
   "source": [
    "hasil_hp"
   ]
  },
  {
   "cell_type": "code",
   "execution_count": null,
   "metadata": {},
   "outputs": [],
   "source": []
  }
 ],
 "metadata": {
  "kernelspec": {
   "display_name": "venv",
   "language": "python",
   "name": "python3"
  },
  "language_info": {
   "codemirror_mode": {
    "name": "ipython",
    "version": 3
   },
   "file_extension": ".py",
   "mimetype": "text/x-python",
   "name": "python",
   "nbconvert_exporter": "python",
   "pygments_lexer": "ipython3",
   "version": "3.12.4"
  }
 },
 "nbformat": 4,
 "nbformat_minor": 2
}
